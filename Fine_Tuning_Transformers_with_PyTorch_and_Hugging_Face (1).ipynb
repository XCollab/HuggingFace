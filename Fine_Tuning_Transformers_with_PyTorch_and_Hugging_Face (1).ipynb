{
  "cells": [
    {
      "cell_type": "markdown",
      "metadata": {
        "id": "c43eb1fc-ae07-461e-a98a-69d33b208e68"
      },
      "source": [
        "\n",
        "```\n",
        "```\n",
        "```\n",
        "```\n",
        "```\n",
        "```\n",
        "\n",
        "# **Fine-Tuning Transformers with PyTorch and Hugging Face**\n",
        "\n",
        "```\n",
        "Find Code Here >>>> github.com/XCollab/HuggingFace.git\n",
        "```\n",
        "```\n",
        "Join the OpenSource Github Community >>>> github.com/XCollab\n",
        "```\n",
        "```\n",
        "Connect On LinkedIn >>>> linkedin/in/codewithdark\n",
        "```\n",
        "```\n",
        "# Follow On github >>>> github/codewithdark-git\n",
        "```\n",
        "```\n",
        "```\n",
        "```\n",
        "```\n",
        "```\n",
        "```"
      ]
    },
    {
      "cell_type": "markdown",
      "metadata": {
        "id": "30c06015-7ab3-4efd-8479-76eb7f0d1f01"
      },
      "source": [
        "# Introduction\n",
        "\n",
        "This project aims to introduce you to the process of loading and fine-tuning pretrained large language models (LLMs)\n",
        "\n",
        "You will learn how to implement the training loop of a model using pytorch to tune a model on task-specific data, as well as fine-tuning a model on task-specific data using the SFTTrainer module from Hugging Face. Finally, you will learn how to evaluate the performance of the fine-tuned models.\n",
        "\n",
        "By the end of this project, you will have a solid understanding of how to leverage pretrained LLMs and fine-tune them for your specific use cases, empowering you to create powerful and customized natural language processing solutions.\n"
      ]
    },
    {
      "cell_type": "markdown",
      "metadata": {
        "id": "d34db28c-a550-4ce9-9464-4b39ca04ae75"
      },
      "source": [
        "# __Table of Contents__\n",
        "\n",
        "<ol>\n",
        "    <li><a href=\"#Objectives\">Objectives</a></li>\n",
        "    <li>\n",
        "        <a href=\"#Setup\">Setup</a>\n",
        "        <ol>\n",
        "            <li><a href=\"#Installing-required-libraries\">Installing required libraries</a></li>\n",
        "            <li><a href=\"#Importing-required-libraries\">Importing required libraries</a></li>\n",
        "        </ol>\n",
        "    </li>\n",
        "    <li><a href=\"#Supervised-Fine-tuning-with-PyTorch)\">Supervised Fine-tuning with Pytorch</a>\n",
        "        <ol>\n",
        "            <li><a href=\"#Dataset-preparations\">Dataset preparations</a></li>\n",
        "            <li><a href=\"#Train-the-model\">Train the model</a></li>\n",
        "            <li><a href=\"#Evaluate\">Evaluate</a></li>\n",
        "            <li><a href=\"#Loading-the-saved-model\">Loading the saved model</a></li>\n",
        "        </ol>\n",
        "    </li>\n",
        "    <li><a href=\"#Exercise:-Training-a-conversational-model-using-SFTTrainer\">Exercise: Training a conversational model using SFTTrainer</a></li>\n",
        "</ol>\n"
      ]
    },
    {
      "cell_type": "markdown",
      "metadata": {
        "id": "9fdd3a55-f675-49a6-af0a-62a65f9d9487"
      },
      "source": [
        "---\n"
      ]
    },
    {
      "cell_type": "markdown",
      "metadata": {
        "id": "5c80b7af-201b-4e05-85ff-f3eab8083f85"
      },
      "source": [
        "# Objectives\n",
        "\n",
        "After completing this lab, you will be able to:\n",
        "\n",
        " - Load pretrained LLMs from Hugging Face and make inferences\n",
        " - Fine-tune a model on task-specific data using the SFTTrainer module from Hugging Face\n",
        " - Load a SFTTrainer pretrained model and make comparisons\n",
        " - Evaluate the model\n"
      ]
    },
    {
      "cell_type": "markdown",
      "metadata": {
        "id": "23f92797-d2dd-4937-bb04-2e199fd9ec3e"
      },
      "source": [
        "---\n"
      ]
    },
    {
      "cell_type": "markdown",
      "metadata": {
        "id": "7f436a70-f6f7-4a2f-b7d6-0de613e8eee6"
      },
      "source": [
        "# Setup\n"
      ]
    },
    {
      "cell_type": "markdown",
      "metadata": {
        "id": "53bc1d66-a07e-485d-a645-b4c5b22fb8d7"
      },
      "source": [
        "### Installing required libraries\n",
        "\n",
        "The following required libraries are pre-installed in the environment. However, if you run this notebook commands in a different Jupyter environment (e.g. Watson Studio or Ananconda), you will need to install these libraries by removing the `#` sign before `!pip` in the code cell below.\n"
      ]
    },
    {
      "cell_type": "code",
      "metadata": {
        "id": "9104d2ad-d85f-4505-bf68-77abeccdb067"
      },
      "outputs": [],
      "source": [
        "# All Libraries required for this lab are listed below. The libraries pre-installed on Skills Network Labs are commented.\n",
        "# !pip install -qy pandas==1.3.4 numpy==1.21.4 seaborn==0.9.0 matplotlib==3.5.0 torch=2.1.0+cu118\n",
        "# - Update a specific package\n",
        "# !pip install pmdarima -U\n",
        "# - Update a package to specific version\n",
        "# !pip install --upgrade pmdarima==2.0.2\n",
        "# Note: If your environment doesn't support \"!pip install\", use \"!mamba install\""
      ],
      "execution_count": null
    },
    {
      "cell_type": "markdown",
      "metadata": {
        "id": "23d832a2-788f-467f-be66-4df915db9ba0"
      },
      "source": [
        "The following required libraries are __not__ pre-installed in the environment. __You will need to run the following cell__ to install them:\n"
      ]
    },
    {
      "cell_type": "code",
      "metadata": {
        "id": "d6e89f0e-dc1d-45d0-a250-c04af035fb7b"
      },
      "outputs": [],
      "source": [
        "!pip install transformers==4.42.1\n",
        "!pip install datasets # 2.20.0\n",
        "!pip install portalocker>=2.0.0\n",
        "!pip install torch==2.3.1\n",
        "!pip install torchmetrics==1.4.0.post0\n",
        "#!pip install numpy==1.26.4\n",
        "#!pip install peft==0.11.1\n",
        "#!pip install evaluate==0.4.2\n",
        "#!pip install -q bitsandbytes==0.43.1\n",
        "!pip install accelerate==0.31.0\n",
        "!pip install torchvision==0.18.1\n",
        "\n",
        "\n",
        "!pip install trl==0.9.4\n",
        "!pip install protobuf==3.20.*\n",
        "!pip install matplotlib\n"
      ],
      "execution_count": null
    },
    {
      "cell_type": "markdown",
      "metadata": {
        "id": "43230813-ce73-4921-8f45-2bacd0288f15"
      },
      "source": [
        "### Importing required libraries\n",
        "\n",
        "_It is recommended that you import all required libraries in one place (here):_\n",
        "* Note: If you get an error after running the cell below, try restarting the Kernel, as some packages need a restart to be effective.\n"
      ]
    },
    {
      "cell_type": "code",
      "metadata": {
        "id": "bb86ab81-5a5f-4466-becd-59111db784c6"
      },
      "outputs": [],
      "source": [
        "import torch\n",
        "from torchmetrics import Accuracy\n",
        "from torch.optim.lr_scheduler import LambdaLR\n",
        "from torch.utils.data import DataLoader\n",
        "from torch.optim import AdamW\n",
        "from transformers import AutoConfig,AutoModelForCausalLM,AutoModelForSequenceClassification,BertConfig,BertForMaskedLM,TrainingArguments, Trainer, TrainingArguments\n",
        "from transformers import AutoTokenizer,BertTokenizerFast,TextDataset,DataCollatorForLanguageModeling\n",
        "from transformers import pipeline\n",
        "from datasets import load_dataset\n",
        "from trl import SFTConfig,SFTTrainer, DataCollatorForCompletionOnlyLM\n",
        "\n",
        "\n",
        "#import numpy as np\n",
        "#import pandas as pd\n",
        "from tqdm.auto import tqdm\n",
        "import math\n",
        "import time\n",
        "import matplotlib.pyplot as plt\n",
        "#import pandas as pd\n",
        "\n",
        "\n",
        "# You can also use this section to suppress warnings generated by your code:\n",
        "def warn(*args, **kwargs):\n",
        "    pass\n",
        "import warnings\n",
        "warnings.warn = warn\n",
        "warnings.filterwarnings('ignore')"
      ],
      "execution_count": null
    },
    {
      "cell_type": "markdown",
      "metadata": {
        "id": "dc819105-12c1-42da-a240-1a84374d936f"
      },
      "source": [
        "---\n"
      ]
    },
    {
      "cell_type": "markdown",
      "metadata": {
        "id": "795f322a-2581-4622-8210-24fa9eb10f91"
      },
      "source": [
        "# Supervised Fine-tuning with Pytorch\n",
        "\n",
        "Fine-tuning Transformers, specifically BERT (Bidirectional Encoder Representations from Transformers), refers to the process of training a pretrained BERT model on a specific downstream task. BERT is an encoder-only language model that has been pretrained on a large corpus of text to learn contextual representations of words.\n",
        "\n",
        "Fine-tuning BERT involves taking the pretrained model and further training it on a task-specific dataset, such as sentiment analysis or question answering. During fine-tuning, the parameters of the pretrained BERT model are updated and adapted to the specifics of the target task.\n",
        "\n",
        "This process is important because it allows you to leverage the knowledge and language understanding captured by BERT and apply it to different tasks. By fine-tuning BERT, you can benefit from its contextual understanding of language and transfer that knowledge to specific domain-specific or task-specific problems. Fine-tuning enables BERT to learn from a smaller labeled dataset and generalize well to unseen examples, making it a powerful tool for various natural language processing tasks. It helps to bridge the gap between pretraining on a large corpus and the specific requirements of downstream applications, ultimately improving the performance and effectiveness of models in various real-world scenarios.\n"
      ]
    },
    {
      "cell_type": "markdown",
      "metadata": {
        "id": "344d2b73-1654-4a8c-bbc1-5c4e68ce7cd8"
      },
      "source": [
        "## Dataset preparations\n",
        "\n",
        "The Yelp review dataset is a widely used dataset in natural language processing (NLP) and sentiment analysis research. It consists of user reviews and accompanying metadata from the Yelp platform, which is a popular online platform for reviewing and rating local businesses such as restaurants, hotels, and shops.\n",
        "\n",
        "The dataset includes 6,990,280 reviews written by Yelp users, covering a wide range of businesses and locations. Each review typically contains the text of the review itself alongwith the star rating given by the user (ranging from 1 to 5).\n",
        "\n",
        "Our aim in this lab, is to fine-tune a pretrained BERT model to predict the ratings from reviews.\n"
      ]
    },
    {
      "cell_type": "markdown",
      "metadata": {
        "id": "6790761b-0480-4d3c-b183-e423a0b69f20"
      },
      "source": [
        "Let's start by loading the yelp_review data:\n"
      ]
    },
    {
      "cell_type": "code",
      "metadata": {
        "id": "c09d6869-aad9-4d8c-8e27-42eb5906d765"
      },
      "outputs": [],
      "source": [
        "dataset = load_dataset(\"yelp_review_full\")\n",
        "\n",
        "dataset"
      ],
      "execution_count": null
    },
    {
      "cell_type": "markdown",
      "metadata": {
        "id": "9fdedbbb-6a21-4c1b-82db-f8bcd4219685"
      },
      "source": [
        "Let's check a sample record of the dataset:\n"
      ]
    },
    {
      "cell_type": "code",
      "metadata": {
        "id": "9d9e29ff-51af-49c9-97fb-51d84e33514c"
      },
      "outputs": [],
      "source": [
        "dataset[\"train\"][100]"
      ],
      "execution_count": null
    },
    {
      "cell_type": "markdown",
      "metadata": {
        "id": "79f27100-ee6a-4c8c-847b-894f37a83ff3"
      },
      "source": [
        "the label is the key of the class label\n"
      ]
    },
    {
      "cell_type": "code",
      "metadata": {
        "id": "c16216ce-bf19-46e2-821b-023826907c6f"
      },
      "outputs": [],
      "source": [
        "dataset[\"train\"][100][\"label\"]"
      ],
      "execution_count": null
    },
    {
      "cell_type": "markdown",
      "metadata": {
        "id": "71598b05-b6e9-4138-aee8-98b15921135e"
      },
      "source": [
        "there is also the text\n"
      ]
    },
    {
      "cell_type": "code",
      "metadata": {
        "id": "dc9bfc24-6df8-4897-9e7c-4f0f2c81a7fb"
      },
      "outputs": [],
      "source": [
        "dataset[\"train\"][100]['text']"
      ],
      "execution_count": null
    },
    {
      "cell_type": "markdown",
      "metadata": {
        "id": "074d9e5f-a8dd-4287-9187-f6fc98a37dfc"
      },
      "source": [
        "You can select a portion of data to decrease the training time:\n"
      ]
    },
    {
      "cell_type": "code",
      "metadata": {
        "id": "5bb7f64d-dab8-4ae1-9955-cfcdf8d4e62e"
      },
      "outputs": [],
      "source": [
        "dataset[\"train\"] = dataset[\"train\"].select([i for i in range(1000)])\n",
        "dataset[\"test\"] = dataset[\"test\"].select([i for i in range(200)])"
      ],
      "execution_count": null
    },
    {
      "cell_type": "markdown",
      "metadata": {
        "id": "3b745ecc-7998-44a8-9a27-8797e9cd66e8"
      },
      "source": [
        "There are two data fields:\n",
        "- label: the label for the review\n",
        "- text: a string containing the body of the user review\n"
      ]
    },
    {
      "cell_type": "markdown",
      "metadata": {
        "id": "b55c87eb-8ceb-4de1-b84d-cb18bdf465e5"
      },
      "source": [
        "### Tokenizing data\n",
        "\n",
        "The next step is to load a BERT tokenizer to tokenize, pad and truncate reviews to handle variable-length sequences:\n"
      ]
    },
    {
      "cell_type": "code",
      "metadata": {
        "id": "9f412a4c-b199-43b6-a0ec-e8f0ad244d63"
      },
      "outputs": [],
      "source": [
        "# Instantiate a tokenizer using the BERT base cased model\n",
        "tokenizer = AutoTokenizer.from_pretrained(\"bert-base-cased\")\n",
        "\n",
        "# Define a function to tokenize examples\n",
        "def tokenize_function(examples):\n",
        "    # Tokenize the text using the tokenizer\n",
        "    # Apply padding to ensure all sequences have the same length\n",
        "    # Apply truncation to limit the maximum sequence length\n",
        "    return tokenizer(examples[\"text\"], padding=\"max_length\", truncation=True)\n",
        "\n",
        "\n",
        "# Apply the tokenize function to the dataset in batches\n",
        "tokenized_datasets = dataset.map(tokenize_function, batched=True)\n"
      ],
      "execution_count": null
    },
    {
      "cell_type": "markdown",
      "metadata": {
        "id": "3c1d3f24-d42e-4f6f-81f2-5ec6252985c7"
      },
      "source": [
        "The keys in each element of tokenized_datasets are 'label', 'text', 'input_ids', 'token_type_ids', and 'attention_mask'.\n"
      ]
    },
    {
      "cell_type": "code",
      "metadata": {
        "id": "92a861c8-ee04-45be-bdea-ee54e26871fe"
      },
      "outputs": [],
      "source": [
        "tokenized_datasets['train'][0].keys()"
      ],
      "execution_count": null
    },
    {
      "cell_type": "markdown",
      "metadata": {
        "id": "cf07c65c-790f-4a7b-9756-3289c383c1f5"
      },
      "source": [
        "To apply the preprocessing function over the entire dataset, let's use the map method. You can speed up the map function by setting batched=True to process multiple elements of the dataset at once:\n"
      ]
    },
    {
      "cell_type": "markdown",
      "metadata": {
        "id": "d7025df2-28ac-49b6-b5f8-0e3119121ccd"
      },
      "source": [
        "Since the model is built on the PyTorch framework, it is crucial to prepare the dataset in a format that PyTorch can readily process. Follow these steps to ensure compatibility:\n"
      ]
    },
    {
      "cell_type": "code",
      "metadata": {
        "id": "2bbb609d-78d3-44ba-b0c8-e359178bcec1"
      },
      "outputs": [],
      "source": [
        "# Remove the text column because the model does not accept raw text as an input\n",
        "tokenized_datasets = tokenized_datasets.remove_columns([\"text\"])\n",
        "\n",
        "# Rename the label column to labels because the model expects the argument to be named labels\n",
        "tokenized_datasets = tokenized_datasets.rename_column(\"label\", \"labels\")\n",
        "\n",
        "# Set the format of the dataset to return PyTorch tensors instead of lists\n",
        "tokenized_datasets.set_format(\"torch\")"
      ],
      "execution_count": null
    },
    {
      "cell_type": "markdown",
      "metadata": {
        "id": "6bf30a05-d5f8-4473-ade5-738e6451ad9a"
      },
      "source": [
        "the result is a set of tensors with the keys as:  'labels', 'input_ids', 'token_type_ids', 'attention_mask'\n"
      ]
    },
    {
      "cell_type": "code",
      "metadata": {
        "id": "476e4a70-f8ba-4c04-a810-eeae87f60666"
      },
      "outputs": [],
      "source": [
        "tokenized_datasets['train'][0].keys()"
      ],
      "execution_count": null
    },
    {
      "cell_type": "markdown",
      "metadata": {
        "id": "3f18a8f1-8adf-4c6d-b752-bfb5b5659206"
      },
      "source": [
        "### DataLoader\n"
      ]
    },
    {
      "cell_type": "markdown",
      "metadata": {
        "id": "f829671f-a9b5-4bc3-b925-2790627a993e"
      },
      "source": [
        "Next, create a DataLoader for train and test datasets so you can iterate over batches of data:\n"
      ]
    },
    {
      "cell_type": "code",
      "metadata": {
        "id": "324810b9-a324-4d4d-8c4d-7a4e4f1ecad8"
      },
      "outputs": [],
      "source": [
        "# Create a training data loader\n",
        "train_dataloader = DataLoader(tokenized_datasets[\"train\"], shuffle=True, batch_size=2)\n",
        "\n",
        "# Create an evaluation data loader\n",
        "eval_dataloader = DataLoader(tokenized_datasets[\"test\"], batch_size=2)"
      ],
      "execution_count": null
    },
    {
      "cell_type": "markdown",
      "metadata": {
        "id": "1fd9c5bb-e677-4e69-a7c2-fba094afce25"
      },
      "source": [
        "## Train the model\n"
      ]
    },
    {
      "cell_type": "markdown",
      "metadata": {
        "id": "3288b05d-c0b0-4e92-a088-0139cb09579a"
      },
      "source": [
        "You’re ready to start training your model, now!\n",
        "In this section, you will learn to create the training loop from scratch without the help of the Hugging Face trainer class.\n",
        "In the MLM task, you utilized the Hugging Face trainer module. Now, you will develop the trainer yourself.\n"
      ]
    },
    {
      "cell_type": "markdown",
      "metadata": {
        "id": "f95a2b11-9909-46c7-9ce3-3c0e1d3b737b"
      },
      "source": [
        "### Load a pretrained model\n"
      ]
    },
    {
      "cell_type": "markdown",
      "metadata": {
        "id": "82cc75d8-335e-4642-9d08-d60a8f38d5ee"
      },
      "source": [
        "Here, you'll load a pretrained classification model with 5 classes:\n"
      ]
    },
    {
      "cell_type": "code",
      "metadata": {
        "id": "58cd7a3e-ef2c-4610-bd69-43bfbcf88310"
      },
      "outputs": [],
      "source": [
        "# Instantiate a sequence classification model\n",
        "model = AutoModelForSequenceClassification.from_pretrained(\"bert-base-cased\", num_labels=5)"
      ],
      "execution_count": null
    },
    {
      "cell_type": "markdown",
      "metadata": {
        "id": "6ae53280-768c-4be0-b728-182514bee4e9"
      },
      "source": [
        "### Optimizer and learning rate schedule\n",
        "\n",
        "Let's create an optimizer and learning rate scheduler to fine-tune the model. You can use the AdamW optimizer from PyTorch:\n"
      ]
    },
    {
      "cell_type": "code",
      "metadata": {
        "id": "4cb03955-9393-42aa-98c6-018165614332"
      },
      "outputs": [],
      "source": [
        "# Define the optimizer\n",
        "optimizer = AdamW(model.parameters(), lr=5e-4)\n",
        "\n",
        "# Set the number of epochs\n",
        "num_epochs = 10\n",
        "\n",
        "# Calculate the total number of training steps\n",
        "num_training_steps = num_epochs * len(train_dataloader)\n",
        "\n",
        "# Define the learning rate scheduler\n",
        "lr_scheduler = LambdaLR(optimizer, lr_lambda=lambda current_step: (1 - current_step / num_training_steps))"
      ],
      "execution_count": null
    },
    {
      "cell_type": "markdown",
      "metadata": {
        "id": "907ff0c5-ecde-4226-a3c6-462a1a5c5265"
      },
      "source": [
        " Check if CUDA is available and, then set the device accordingly.\n"
      ]
    },
    {
      "cell_type": "code",
      "metadata": {
        "id": "ae2e11aa-604a-425f-a24d-52faab3a3c18"
      },
      "outputs": [],
      "source": [
        "# Check if CUDA is available and set the device accordingly\n",
        "device = torch.device(\"cuda\") if torch.cuda.is_available() else torch.device(\"cpu\")\n",
        "\n",
        "# Move the model to the appropriate device\n",
        "model.to(device)\n"
      ],
      "execution_count": null
    },
    {
      "cell_type": "markdown",
      "metadata": {
        "id": "467f53c5-b999-4ab8-a110-f0f9b922fd03"
      },
      "source": [
        "### Training loop\n",
        "\n",
        "You are ready to fine-tune the model. To keep track of training progress, let's use the \"tqdm\" library to add a progress bar over the number of training steps.\n",
        "The train_model function trains a model using a set of training data provided through a dataloader. It begins by setting up a progress bar to help monitor the training progress visually. The model is switched to training mode, which is necessary for certain model behaviors like dropout to work correctly during training. The function processes the data in batches for each epoch, which involves several steps for each batch: transferring the data to the correct device (like a GPU), running the data through the model to get outputs and calculate loss, updating the model's parameters using the calculated gradients, adjusting the learning rate, and clearing the old gradients. These steps are repeated for each batch of data, and the progress bar is updated accordingly to reflect the progress. Once all epochs are completed, the trained model is saved to be used later.\n",
        "\n",
        "\n",
        "\n",
        "\n",
        "\n",
        "\n",
        "\n"
      ]
    },
    {
      "cell_type": "code",
      "metadata": {
        "id": "c38f95f5-eabd-4bff-a9d1-773777990f93"
      },
      "outputs": [],
      "source": [
        "def train_model(model,tr_dataloader):\n",
        "\n",
        "    # Create a progress bar to track the training progress\n",
        "    progress_bar = tqdm(range(num_training_steps))\n",
        "\n",
        "    # Set the model in training mode\n",
        "    model.train()\n",
        "    tr_losses=[]\n",
        "    # Training loop\n",
        "    for epoch in range(num_epochs):\n",
        "        total_loss = 0\n",
        "        # Iterate over the training data batches\n",
        "        for batch in tr_dataloader:\n",
        "            # Move the batch to the appropriate device\n",
        "            batch = {k: v.to(device) for k, v in batch.items()}\n",
        "            # Forward pass through the model\n",
        "            outputs = model(**batch)\n",
        "            # Compute the loss\n",
        "            loss = outputs.loss\n",
        "            # Backward pass (compute gradients)\n",
        "            loss.backward()\n",
        "\n",
        "            total_loss += loss.item()\n",
        "            # Update the model parameters\n",
        "            optimizer.step()\n",
        "            # Update the learning rate scheduler\n",
        "            lr_scheduler.step()\n",
        "            # Clear the gradients\n",
        "            optimizer.zero_grad()\n",
        "            # Update the progress bar\n",
        "            progress_bar.update(1)\n",
        "        tr_losses.append(total_loss/len(tr_dataloader))\n",
        "    #plot loss\n",
        "    plt.plot(tr_losses)\n",
        "    plt.title(\"Training loss\")\n",
        "    plt.xlabel(\"Epoch\")\n",
        "    plt.ylabel(\"Loss\")\n",
        "    plt.show()\n"
      ],
      "execution_count": null
    },
    {
      "cell_type": "markdown",
      "metadata": {
        "id": "5eb66d6c-fc14-4d7a-9398-1fbcd8d201dd"
      },
      "source": [
        "## Evaluate\n",
        "The evaluate_model function works similarly to the train_model function but is used for evaluating the model's performance instead of training it. It uses a dataloader to process data in batches, setting the model to evaluation mode to ensure accuracy in measurements and disabling gradient calculations since it's not training. The function calculates predictions for each batch, updates an accuracy metric, and finally, prints the overall accuracy after processing all batches.\n",
        "\n",
        "\n",
        "\n",
        "\n",
        "\n",
        "\n"
      ]
    },
    {
      "cell_type": "code",
      "metadata": {
        "id": "b78dfc7d-7a7a-41b8-a259-547c9e12acc4"
      },
      "outputs": [],
      "source": [
        "\n",
        "def evaluate_model(model, evl_dataloader):\n",
        "    # Create an instance of the Accuracy metric for multiclass classification with 5 classes\n",
        "    metric = Accuracy(task=\"multiclass\", num_classes=5).to(device)\n",
        "\n",
        "    # Set the model in evaluation mode\n",
        "    model.eval()\n",
        "\n",
        "    # Disable gradient calculation during evaluation\n",
        "    with torch.no_grad():\n",
        "        # Iterate over the evaluation data batches\n",
        "        for batch in evl_dataloader:\n",
        "            # Move the batch to the appropriate device\n",
        "            batch = {k: v.to(device) for k, v in batch.items()}\n",
        "\n",
        "            # Forward pass through the model\n",
        "            outputs = model(**batch)\n",
        "\n",
        "            # Get the predicted class labels\n",
        "            logits = outputs.logits\n",
        "            predictions = torch.argmax(logits, dim=-1)\n",
        "\n",
        "            # Accumulate the predictions and labels for the metric\n",
        "            metric(predictions, batch[\"labels\"])\n",
        "\n",
        "    # Compute the accuracy\n",
        "    accuracy = metric.compute()\n",
        "\n",
        "    # Print the accuracy\n",
        "    print(\"Accuracy:\", accuracy.item())\n",
        "\n"
      ],
      "execution_count": null
    },
    {
      "cell_type": "markdown",
      "metadata": {
        "id": "5770abcb-4c37-482c-9df6-91189fa68083"
      },
      "source": [
        "You can now train the model. This process will take a long time, and it is highly recommended that you do this only if you have the required resources. Please uncomment the following code to train the model.\n"
      ]
    },
    {
      "cell_type": "code",
      "metadata": {
        "id": "233a47c4-4a4f-48d4-b187-0d9ff9ad4394"
      },
      "outputs": [],
      "source": [
        "# train_model(model=model,tr_dataloader=train_dataloader)\n",
        "\n",
        "# torch.save(model, 'my_model.pt')"
      ],
      "execution_count": null
    },
    {
      "cell_type": "markdown",
      "metadata": {
        "id": "7b83879b-370e-4f50-838b-ce35ca7c05d8"
      },
      "source": [
        "![loss_gpt.png](https://cf-courses-data.s3.us.cloud-object-storage.appdomain.cloud/HausLW2F_w30s1UK0zj7mQ/training-loss-BERT-Classification.png)\n"
      ]
    },
    {
      "cell_type": "markdown",
      "metadata": {
        "id": "2dd25299-191b-4337-b127-7d21afdcb82a"
      },
      "source": [
        "You are now ready to learn how to tune a more complex model that can generate conversations between a human and an assistant.\n"
      ]
    },
    {
      "cell_type": "markdown",
      "metadata": {
        "id": "522da1a0-8253-485f-a0b4-b402d57c7f01"
      },
      "source": [
        "## Loading the saved model\n",
        "If you want to skip training and load the model that you trained for 10 epochs, go ahead and uncomment the following cell:\n"
      ]
    },
    {
      "cell_type": "code",
      "metadata": {
        "id": "b25a71be-ebbe-4425-b9e7-ea66c061f6c3"
      },
      "outputs": [],
      "source": [
        "!wget 'https://cf-courses-data.s3.us.cloud-object-storage.appdomain.cloud/wFhKpkBMSgjmZKRSyayvsQ/bert-classification-model.pt'\n",
        "model.load_state_dict(torch.load('bert-classification-model.pt',map_location=torch.device('cpu')))"
      ],
      "execution_count": null
    },
    {
      "cell_type": "markdown",
      "metadata": {
        "id": "9115a48d-52b8-4ada-afa5-b38a45e7f832"
      },
      "source": [
        "You can now evaluate the model. Please note that this process will take a while.\n"
      ]
    },
    {
      "cell_type": "code",
      "metadata": {
        "id": "4b325c84-94ce-4422-aaea-24130988db15"
      },
      "outputs": [],
      "source": [
        "evaluate_model(model, eval_dataloader)"
      ],
      "execution_count": null
    },
    {
      "cell_type": "markdown",
      "metadata": {
        "id": "03578c7f-f003-48a0-afc2-8f8812292dcd"
      },
      "source": [
        "You are now ready to learn to tune a more complex model that can generate conversations between a human and an assistant using SFTtrainer.\n"
      ]
    },
    {
      "cell_type": "markdown",
      "metadata": {
        "id": "a469068b-8b21-4af4-8df1-d77203ca6692"
      },
      "source": [
        "# Exercise: Training a conversational model using SFTTrainer\n",
        "\n",
        "The SFTTrainer from the trl (Transformers Reinforcement Learning) library is a tool used for supervised fine-tuning of language models. It helps refine pre-trained models using specific datasets to enhance their performance on targeted tasks.\n"
      ]
    },
    {
      "cell_type": "markdown",
      "metadata": {
        "id": "961f2608-4c8a-4681-bff7-e483c9bce5f4"
      },
      "source": [
        "## Objective\n",
        "Explore how fine-tuning a decoder transformer using a specific dataset affects the quality of the generated responses in a question-answering task.\n"
      ]
    },
    {
      "cell_type": "markdown",
      "metadata": {
        "id": "1d497fa6-79a1-4a7b-a0cc-1e258b24a5ff"
      },
      "source": [
        "Step 1- Load the train split of \"timdettmers/openassistant-guanaco\" dataset from Hugging Face:\n"
      ]
    },
    {
      "cell_type": "code",
      "metadata": {
        "id": "28da4254-d123-41c6-b8c5-a0ac49dad833"
      },
      "outputs": [],
      "source": [
        "\n",
        "dataset = load_dataset(\"timdettmers/openassistant-guanaco\", split=\"train\")\n",
        "dataset[0]"
      ],
      "execution_count": null
    },
    {
      "cell_type": "markdown",
      "metadata": {
        "id": "82559feb-d956-4880-b0ce-3debcb3146ba"
      },
      "source": [
        "Step 2- Load the pretrained causal model \"facebook/opt-350m\" along with its tokenizer from Hugging Face:\n"
      ]
    },
    {
      "cell_type": "code",
      "metadata": {
        "id": "d07614eb-08fc-48b6-bd45-996ab8a8af90"
      },
      "outputs": [],
      "source": [
        "\n",
        "model = AutoModelForCausalLM.from_pretrained(\"facebook/opt-350m\")\n",
        "tokenizer = AutoTokenizer.from_pretrained(\"facebook/opt-350m\")"
      ],
      "execution_count": null
    },
    {
      "cell_type": "markdown",
      "metadata": {
        "id": "36f5977d-441f-40fd-9053-8607fb31a829"
      },
      "source": [
        "Step 3- Create instruction and response templates based on the train dataset format:\n"
      ]
    },
    {
      "cell_type": "code",
      "metadata": {
        "id": "921c1a70-ff73-471a-90b8-c377d4c92984"
      },
      "outputs": [],
      "source": [
        "\n",
        "instruction_template = \"### Human:\"\n",
        "response_template = \"### Assistant:\""
      ],
      "execution_count": null
    },
    {
      "cell_type": "markdown",
      "metadata": {
        "id": "1671cf8c-63e7-4866-add1-6b5cf7022aaf"
      },
      "source": [
        "Step 4- Create a collator to curate data in the appropriate shape for training using \"DataCollatorForCompletionOnlyLM\":\n"
      ]
    },
    {
      "cell_type": "code",
      "metadata": {
        "id": "3eeca318-2dda-49ac-915b-58fe9b527435"
      },
      "outputs": [],
      "source": [
        "\n",
        "collator = DataCollatorForCompletionOnlyLM(instruction_template=instruction_template,\n",
        "                                           response_template=response_template,\n",
        "                                           tokenizer=tokenizer, mlm=False)\n"
      ],
      "execution_count": null
    },
    {
      "cell_type": "markdown",
      "metadata": {
        "id": "248b658f-dc9d-4bea-bf09-8cb1150c1ca6"
      },
      "source": [
        "Step 5- Create an SFTTrainer object and pass the model as well as the dataset and collator:\n"
      ]
    },
    {
      "cell_type": "code",
      "metadata": {
        "id": "d61bf91d-e3f4-49e6-870a-f4ad2e0ae608"
      },
      "outputs": [],
      "source": [
        "\n",
        "\n",
        "training_args = SFTConfig(\n",
        "    output_dir=\"/tmp\",\n",
        "    num_train_epochs=10,\n",
        "    #learning_rate=2e-5,\n",
        "    save_strategy=\"epoch\",\n",
        "    fp16=True,\n",
        "    per_device_train_batch_size=2,  # Reduce batch size\n",
        "    per_device_eval_batch_size=2,  # Reduce batch size\n",
        "    #gradient_accumulation_steps=4,  # Accumulate gradients\n",
        "    max_seq_length=1024,\n",
        "    do_eval=True\n",
        ")\n",
        "\n",
        "trainer = SFTTrainer(\n",
        "    model,\n",
        "    args=training_args,\n",
        "    train_dataset=dataset,\n",
        "    dataset_text_field=\"text\",\n",
        "    data_collator=collator,\n",
        ")"
      ],
      "execution_count": null
    },
    {
      "cell_type": "code",
      "metadata": {
        "id": "79bec47b-5d7a-4256-a8db-bc58f3936b91"
      },
      "outputs": [],
      "source": [
        "\n",
        "pipe = pipeline(\"text-generation\", model=model,tokenizer=tokenizer,max_new_tokens=70)\n",
        "print(pipe('''Can you write a short introduction about the relevance of the term \"monopsony\" in economics?\n",
        " Please use examples related to potential monopsonies in the labour market and cite relevant research.''')[0][\"generated_text\"])"
      ],
      "execution_count": null
    },
    {
      "cell_type": "markdown",
      "metadata": {
        "id": "d968985d-39ad-4ae9-9cf4-57e4064d4fbf"
      },
      "source": [
        "Looks like the model is barely aware of what \"monopsony\" is in the context of economics.\n"
      ]
    },
    {
      "cell_type": "markdown",
      "metadata": {
        "id": "b1dfe443-9d2e-457f-92de-67202016ab05"
      },
      "source": [
        "Step 6A (Optional)- Train the model:\n"
      ]
    },
    {
      "cell_type": "code",
      "metadata": {
        "id": "9b5c230a-0477-4dc7-8a49-04e60374efc0"
      },
      "outputs": [],
      "source": [
        "trainer.train()\n"
      ],
      "execution_count": null
    },
    {
      "cell_type": "markdown",
      "metadata": {
        "id": "de0d2f4c-5e7f-4f9a-ac64-5dded1a9f30d"
      },
      "source": [
        "* If you do not have enough resources to run the training, load the tuned model we provide here: \"https://cf-courses-data.s3.us.cloud-object-storage.appdomain.cloud/Assistant_model.pt\":\n"
      ]
    },
    {
      "cell_type": "markdown",
      "metadata": {
        "id": "f03d47ae-3873-4f14-9cd5-577027337fd3"
      },
      "source": [
        "\n",
        "Step 6B- Load the tuned model:\n"
      ]
    },
    {
      "cell_type": "code",
      "metadata": {
        "id": "f4cbd353-cb0d-4d6f-b0df-ee254e3ca95d"
      },
      "outputs": [],
      "source": [
        "\n",
        "!wget 'https://cf-courses-data.s3.us.cloud-object-storage.appdomain.cloud/Assistant_model.pt'\n",
        "model.load_state_dict(torch.load('Assistant_model.pt',map_location=torch.device('cpu')))"
      ],
      "execution_count": null
    },
    {
      "cell_type": "markdown",
      "metadata": {
        "id": "45c05a8e-9e66-42eb-af0b-4d2e3b869ad6"
      },
      "source": [
        "Step 7- Check how the tuned model performs in answering the same specialized question:\n"
      ]
    },
    {
      "cell_type": "code",
      "metadata": {
        "id": "48eae7b2-95a5-4066-85cb-e7cee0a41646"
      },
      "outputs": [],
      "source": [
        "\n",
        "pipe = pipeline(\"text-generation\", model=model,tokenizer=tokenizer,max_new_tokens=70)\n",
        "print(pipe('''Can you write a short introduction about the relevance of the term \"monopsony\" in economics?\n",
        " Please use examples related to potential monopsonies in the labour market and cite relevant research.''')[0][\"generated_text\"])"
      ],
      "execution_count": null
    }
  ],
  "metadata": {
    "kernelspec": {
      "display_name": "Python 3 (ipykernel)",
      "language": "python",
      "name": "python3"
    },
    "language_info": {
      "codemirror_mode": {
        "name": "ipython",
        "version": 3
      },
      "file_extension": ".py",
      "mimetype": "text/x-python",
      "name": "python",
      "nbconvert_exporter": "python",
      "pygments_lexer": "ipython3",
      "version": "3.11.9"
    },
    "prev_pub_hash": "813811c42412546cc91d90735ea8e30caab5e8398335372a899df8c59fe00713",
    "colab": {
      "provenance": []
    }
  },
  "nbformat": 4,
  "nbformat_minor": 0
}